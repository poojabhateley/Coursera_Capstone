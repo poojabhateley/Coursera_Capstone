{
  "nbformat": 4,
  "nbformat_minor": 0,
  "metadata": {
    "colab": {
      "name": "Scraped Data_IEX.ipynb",
      "provenance": [],
      "authorship_tag": "ABX9TyPt2Y0jDAJ9FitvG3SMLN+h",
      "include_colab_link": true
    },
    "kernelspec": {
      "name": "python3",
      "display_name": "Python 3"
    }
  },
  "cells": [
    {
      "cell_type": "markdown",
      "metadata": {
        "id": "view-in-github",
        "colab_type": "text"
      },
      "source": [
        "<a href=\"https://colab.research.google.com/github/poojabhateley/Coursera_Capstone/blob/master/Scraped_Data_IEX.ipynb\" target=\"_parent\"><img src=\"https://colab.research.google.com/assets/colab-badge.svg\" alt=\"Open In Colab\"/></a>"
      ]
    },
    {
      "cell_type": "code",
      "metadata": {
        "id": "zYELJ5I2SwxV",
        "colab_type": "code",
        "colab": {}
      },
      "source": [
        "import re\n",
        "import requests\n",
        "from bs4 import BeautifulSoup\n",
        "from datetime import date\n",
        "from datetime import datetime\n",
        "import pytz\n",
        "\n",
        "today = date.today()\n",
        "date=today.strftime(\"%b-%d-%Y\")\n",
        "\n",
        "tz_India = pytz.timezone('Asia/Kolkata')\n",
        "datetime_India = datetime.now(tz_India)\n",
        "time=datetime_India.strftime(\"%H:%M:%S\")\n",
        "\n",
        "headers = {'User-Agent': 'Mozilla/5.0 (X11; Ubuntu; Linux x86_64; rv:78.0) Gecko/20100101 Firefox/78.0'}\n",
        "url = 'https://www.iexindia.com/Reserved.ReportViewerWebControl.axd?Culture=1033&CultureOverrides=True&UICulture=1033&UICultureOverrides=True&ReportStack=1&ControlID={control_id}&Mode=true&OpType=Export&FileName=MarketMinute&ContentDisposition=OnlyHtmlInline&Format=EXCELOPENXML'\n",
        "\n",
        "with requests.session() as s, open('IEX_Market_Snapshot_' + date + '_' + time + '.xlsx', 'wb') as f_out:\n",
        "    soup = BeautifulSoup(s.get('https://www.iexindia.com/marketdata/rtm_market_snapshot.aspx', headers=headers).content, 'html.parser')\n",
        "    img = soup.select_one('img[src*=\"ControlID\"]')\n",
        "    control_id = re.search(r'ControlID=([a-f\\d]+)', img['src'])[1]\n",
        "\n",
        "    f_out.write( s.get(url.format(control_id=control_id), headers=headers).content )\n",
        "\n",
        "with requests.session() as s, open('IEX_AreaPrice_' + date + '_' + time  + '.xlsx', 'wb') as f_out:\n",
        "    soup = BeautifulSoup(s.get('https://www.iexindia.com/marketdata/rtm_areaprice.aspx', headers=headers).content, 'html.parser')\n",
        "    img = soup.select_one('img[src*=\"ControlID\"]')\n",
        "    control_id = re.search(r'ControlID=([a-f\\d]+)', img['src'])[1]\n",
        "\n",
        "    f_out.write( s.get(url.format(control_id=control_id), headers=headers).content )\n",
        "\n",
        "with requests.session() as s, open('IEX_AreaVolume_' + date + '_' + time + '.xlsx', 'wb') as f_out:\n",
        "    soup = BeautifulSoup(s.get('https://www.iexindia.com/marketdata/rtm_areavolume.aspx', headers=headers).content, 'html.parser')\n",
        "    img = soup.select_one('img[src*=\"ControlID\"]')\n",
        "    control_id = re.search(r'ControlID=([a-f\\d]+)', img['src'])[1]\n",
        "\n",
        "    f_out.write( s.get(url.format(control_id=control_id), headers=headers).content )"
      ],
      "execution_count": null,
      "outputs": []
    }
  ]
}