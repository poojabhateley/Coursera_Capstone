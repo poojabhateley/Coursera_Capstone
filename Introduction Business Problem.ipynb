{
 "cells": [
  {
   "cell_type": "markdown",
   "metadata": {},
   "source": [
    "##### Foursquare is a trusted Locaion Data platform which is easily accessible for a variety of applications. One such application is a mobile app which uses location data to help users find neighbourhoods where they can think about living. In a case wherein a family needs to move to a new location, and they are in love with the present neighborhood and all the amenities attached with it, they would prefer a neighborhood with the same type of feature and amenities. The basis of building such application would be the location data from Foursquare which can be used as a starting point to define the different services and benefits in the present neighbood, and finally by using Clustering ML algorithm, they can find the similar neighborhood for seraching houses."
   ]
  },
  {
   "cell_type": "code",
   "execution_count": null,
   "metadata": {},
   "outputs": [],
   "source": []
  }
 ],
 "metadata": {
  "kernelspec": {
   "display_name": "Python",
   "language": "python",
   "name": "conda-env-python-py"
  },
  "language_info": {
   "codemirror_mode": {
    "name": "ipython",
    "version": 3
   },
   "file_extension": ".py",
   "mimetype": "text/x-python",
   "name": "python",
   "nbconvert_exporter": "python",
   "pygments_lexer": "ipython3",
   "version": "3.6.10"
  }
 },
 "nbformat": 4,
 "nbformat_minor": 4
}
